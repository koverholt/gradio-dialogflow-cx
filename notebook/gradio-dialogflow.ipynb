{
 "cells": [
  {
   "cell_type": "markdown",
   "id": "e314b1b1-8546-4dfb-87a7-c5fefc4d1158",
   "metadata": {},
   "source": [
    "# Using a Gradio app with a Dialogflow CX Virtual Agent\n",
    "\n",
    "This notebook will create a new Gradio app that hooks into an existing chatbot running on Dialogflow CX in Google Cloud."
   ]
  },
  {
   "cell_type": "markdown",
   "id": "d6f7f90d-3cde-479e-a950-cc68974956d0",
   "metadata": {},
   "source": [
    "### Imports!"
   ]
  },
  {
   "cell_type": "code",
   "execution_count": null,
   "id": "212ec700-48dc-4765-a179-4c989dd193fe",
   "metadata": {},
   "outputs": [],
   "source": [
    "import argparse\n",
    "import uuid\n",
    "import random\n",
    "import time\n",
    "\n",
    "import gradio as gr\n",
    "\n",
    "from google.cloud import dialogflowcx_v3beta1 as dialogflow\n",
    "from google.cloud.dialogflowcx_v3beta1.services.agents import AgentsClient\n",
    "from google.cloud.dialogflowcx_v3beta1.services.sessions import SessionsClient\n",
    "from google.cloud.dialogflowcx_v3beta1.types import session"
   ]
  },
  {
   "cell_type": "markdown",
   "id": "8bea2ba2-54ce-48f6-bccf-1d8375c6bf3d",
   "metadata": {},
   "source": [
    "### Set the following variables to your Google Cloud project ID, Dialogflow CX agent region, Dialogflow CX agent ID, and language"
   ]
  },
  {
   "cell_type": "code",
   "execution_count": null,
   "id": "2b85b98c-dd9a-469e-b27d-6baecc314f2d",
   "metadata": {},
   "outputs": [],
   "source": [
    "PROJECT_ID = \"your-project-id\"    # https://cloud.google.com/resource-manager/docs/creating-managing-projects\n",
    "LOCATION_ID = \"your-location-id\"  # https://cloud.google.com/dialogflow/cx/docs/concept/region\n",
    "AGENT_ID = \"your-agent-id\"        # https://stackoverflow.com/questions/65389964/where-can-i-find-the-dialogflow-cx-agent-id\n",
    "LANGUAGE_CODE = \"en-us\"           # https://cloud.google.com/dialogflow/cx/docs/reference/language"
   ]
  },
  {
   "cell_type": "markdown",
   "id": "3e69101e-1d61-4f6b-a4d7-d80774b19747",
   "metadata": {},
   "source": [
    "### Create a session with the Dialogflow CX virtual agent"
   ]
  },
  {
   "cell_type": "code",
   "execution_count": null,
   "id": "46464c89-3a93-46cb-9ad6-94d963304c80",
   "metadata": {},
   "outputs": [],
   "source": [
    "def create_session(agent, session_id):\n",
    "    session_path = f\"{agent}/sessions/{session_id}\"\n",
    "    print(f\"Session path: {session_path}\\n\")\n",
    "    client_options = None\n",
    "    agent_components = AgentsClient.parse_agent_path(agent)\n",
    "    location_id = agent_components[\"location\"]\n",
    "    if location_id != \"global\":\n",
    "        api_endpoint = f\"{location_id}-dialogflow.googleapis.com:443\"\n",
    "        print(f\"API Endpoint: {api_endpoint}\\n\")\n",
    "        client_options = {\"api_endpoint\": api_endpoint}\n",
    "    session_client = SessionsClient(client_options=client_options)\n",
    "    return session_client"
   ]
  },
  {
   "cell_type": "markdown",
   "id": "1c22f79b-ed9f-412b-9f58-f66ae5a44dd4",
   "metadata": {},
   "source": [
    "### Given text input from the end-user, detect the intent and return a response from the Dialogflow CX agent"
   ]
  },
  {
   "cell_type": "code",
   "execution_count": null,
   "id": "4ed047df-d33d-44bb-b72d-d2c39c689283",
   "metadata": {},
   "outputs": [],
   "source": [
    "def detect_intent_texts(agent, session_id, session_client, texts, language_code):\n",
    "    \"\"\"Returns the result of detect intent with texts as inputs.\n",
    "    Using the same `session_id` between requests allows continuation\n",
    "    of the conversation.\"\"\"\n",
    "    session_path = f\"{agent}/sessions/{session_id}\"\n",
    "    for text in texts:\n",
    "        text_input = session.TextInput(text=text)\n",
    "        query_input = session.QueryInput(text=text_input, language_code=language_code)\n",
    "        request = session.DetectIntentRequest(\n",
    "            session=session_path, query_input=query_input\n",
    "        )\n",
    "        response = session_client.detect_intent(request=request)\n",
    "\n",
    "        response_messages = [\n",
    "            \" \".join(msg.text.text) for msg in response.query_result.response_messages\n",
    "        ]\n",
    "        \n",
    "        # print(\"=\" * 20)\n",
    "        # print(f\"Query text: {response.query_result.text}\")\n",
    "        # print(f\"Response text: {' '.join(response_messages)}\\n\")\n",
    "\n",
    "        return(f\"{' '.join(response_messages)}\\n\")"
   ]
  },
  {
   "cell_type": "markdown",
   "id": "a721d19d-8c88-4f04-b5b8-468fdacb81e9",
   "metadata": {},
   "source": [
    "### Create a reusable session with the Dialogflow CX virtual agent"
   ]
  },
  {
   "cell_type": "code",
   "execution_count": null,
   "id": "0146e90b-6420-4bd9-8d84-1b1c106a0f32",
   "metadata": {},
   "outputs": [],
   "source": [
    "agent = f\"projects/{PROJECT_ID}/locations/{LOCATION_ID}/agents/{AGENT_ID}\"\n",
    "session_id = uuid.uuid4()\n",
    "current_session = create_session(agent, session_id)"
   ]
  },
  {
   "cell_type": "markdown",
   "id": "c05e6078-dfce-408e-abce-949b42d4c099",
   "metadata": {
    "tags": []
   },
   "source": [
    "### Create a chatbot app with Gradio and integrate it with Dialogflow CX"
   ]
  },
  {
   "cell_type": "code",
   "execution_count": null,
   "id": "33a296e1-589b-4cc2-b21e-c35e7d265291",
   "metadata": {},
   "outputs": [],
   "source": [
    "with gr.Blocks() as demo:\n",
    "    chatbot = gr.Chatbot(label=\"Gradio + Dialogflow CX Chatbot\")\n",
    "    msg = gr.Textbox()\n",
    "    clear = gr.Button(\"Clear\")\n",
    "\n",
    "    def respond(message, chat_history):\n",
    "        texts = [message]\n",
    "        bot_message = detect_intent_texts(agent, session_id, current_session, texts, LANGUAGE_CODE)\n",
    "        chat_history.append((message, bot_message))\n",
    "        time.sleep(1)\n",
    "        return \"\", chat_history\n",
    "\n",
    "    msg.submit(respond, [msg, chatbot], [msg, chatbot])\n",
    "    clear.click(lambda: None, None, chatbot, queue=False)"
   ]
  },
  {
   "cell_type": "markdown",
   "id": "9a3edbe3-9756-4f91-a3d7-3219568a6c33",
   "metadata": {},
   "source": [
    "### Launch the Gradio app and start chatting with the Dialogflow CX virtual agent!"
   ]
  },
  {
   "cell_type": "code",
   "execution_count": null,
   "id": "2a6e1550-1095-4d0c-ac73-7b95bbad95fa",
   "metadata": {},
   "outputs": [],
   "source": [
    "demo.launch()"
   ]
  }
 ],
 "metadata": {
  "kernelspec": {
   "display_name": "Python 3 (ipykernel)",
   "language": "python",
   "name": "python3"
  },
  "language_info": {
   "codemirror_mode": {
    "name": "ipython",
    "version": 3
   },
   "file_extension": ".py",
   "mimetype": "text/x-python",
   "name": "python",
   "nbconvert_exporter": "python",
   "pygments_lexer": "ipython3",
   "version": "3.10.6"
  }
 },
 "nbformat": 4,
 "nbformat_minor": 5
}
